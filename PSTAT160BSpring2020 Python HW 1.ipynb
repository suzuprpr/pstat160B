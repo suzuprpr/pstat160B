{
 "cells": [
  {
   "cell_type": "markdown",
   "metadata": {},
   "source": [
    "# Python Homework 1\n",
    "\n",
    "**Release date:** Friday, April 3<br>\n",
    "**Due date:** Friday, April 17, at midnight via GauchoSpace\n",
    "\n",
    "**Instruction:** Please upload your jupyter notebook on GauchoSpace with filename __PythonHW1_YOURPERMNUMBER.ipynb__.\n"
   ]
  },
  {
   "cell_type": "markdown",
   "metadata": {},
   "source": [
    "Load some packages:"
   ]
  },
  {
   "cell_type": "code",
   "execution_count": null,
   "metadata": {},
   "outputs": [],
   "source": [
    "import numpy as np\n",
    "import matplotlib.pyplot as plt"
   ]
  },
  {
   "cell_type": "markdown",
   "metadata": {},
   "source": [
    "## Problem 1 (5 Points)\n",
    "\n",
    "1. Implement the simulation of a Poisson process $(N_t)_{0 \\leq t \\leq 100}$ with parameter $\\lambda = 0.1$ on the time interval $[0,100]$. "
   ]
  },
  {
   "cell_type": "code",
   "execution_count": null,
   "metadata": {},
   "outputs": [],
   "source": [
    "# WRITE YOUR OWN CODE HERE! FEEL FREE TO INSERT MORE CELLS!\n",
    "# ADD COMMENTS TO YOUR CODE!\n"
   ]
  },
  {
   "cell_type": "markdown",
   "metadata": {},
   "source": [
    "2. Plot a trajectory of your simulated process from part 1. "
   ]
  },
  {
   "cell_type": "code",
   "execution_count": null,
   "metadata": {},
   "outputs": [],
   "source": [
    "# WRITE YOUR OWN CODE HERE! FEEL FREE TO INSERT MORE CELLS!\n",
    "# ADD COMMENTS TO YOUR CODE!\n"
   ]
  },
  {
   "cell_type": "markdown",
   "metadata": {},
   "source": [
    "## Problem 2 (5 Points)"
   ]
  },
  {
   "cell_type": "markdown",
   "metadata": {},
   "source": [
    "1. Simulate a __compound Poisson process__ $(C_t)_{0 \\leq t \\leq 30}$ (see __Lecture 4__) with parameter $\\lambda=1/2$ on the time interval $[0,30]$ where the jumps $Y_1, Y_2, \\ldots$ are given as random variables\n",
    "\n",
    "$$ Y_i = e^{Z_i} \\qquad (i = 1,2,\\ldots)$$\n",
    "\n",
    "with $Z_1, Z_2, \\ldots$ i.i.d. normally distributed random variables with mean 0 and variance 1 (also independent of the underlying Poisson process $(N_t)_{0 \\leq t \\leq 30}$). Plot a trajectory of your simulated process.\n",
    "\n",
    "*Hint*: Use your method from Problem 1 to simulate the underlying Poisson Process $(N_t)_{0 \\leq t \\leq 30}$ driving the compound Poisson process $(C_t)_{0 \\leq t \\leq 30}$."
   ]
  },
  {
   "cell_type": "code",
   "execution_count": null,
   "metadata": {},
   "outputs": [],
   "source": [
    "# WRITE YOUR OWN CODE HERE! FEEL FREE TO INSERT MORE CELLS!\n",
    "# ADD COMMENTS TO YOUR CODE!\n"
   ]
  },
  {
   "cell_type": "markdown",
   "metadata": {},
   "source": [
    "2. Simulate $M=10000$ times the compound Poisson process from part 1 and compute the empricial mean and variance of your samples for the random variable $C_{30}$. Compare your empricial values with the exact theoretical values which are given by\n",
    "\n",
    "$$\\mathbb{E}[C_{30}] = \\mathbb{E}[N_{30}] \\cdot \\mathbb{E}[Y_1] \\qquad \\text{and} \\qquad \\text{Var}(C_{30}) = \\mathbb{E}[N_{30}] \\cdot \\mathbb{E}[Y^2_1].$$\n",
    "\n",
    "*Hint*: Recall that \n",
    "$$\\mathbb{E}[e^{Z_1}] = e^{0.5} \\qquad \\text{and} \\qquad  \\mathbb{E}[(e^{Z_1})^2] = e^2.$$"
   ]
  },
  {
   "cell_type": "code",
   "execution_count": null,
   "metadata": {},
   "outputs": [],
   "source": [
    "# WRITE YOUR OWN CODE HERE! FEEL FREE TO INSERT MORE CELLS!\n",
    "# ADD COMMENTS TO YOUR CODE!\n"
   ]
  }
 ],
 "metadata": {
  "kernelspec": {
   "display_name": "Python 3",
   "language": "python",
   "name": "python3"
  },
  "language_info": {
   "codemirror_mode": {
    "name": "ipython",
    "version": 3
   },
   "file_extension": ".py",
   "mimetype": "text/x-python",
   "name": "python",
   "nbconvert_exporter": "python",
   "pygments_lexer": "ipython3",
   "version": "3.7.4"
  }
 },
 "nbformat": 4,
 "nbformat_minor": 2
}
